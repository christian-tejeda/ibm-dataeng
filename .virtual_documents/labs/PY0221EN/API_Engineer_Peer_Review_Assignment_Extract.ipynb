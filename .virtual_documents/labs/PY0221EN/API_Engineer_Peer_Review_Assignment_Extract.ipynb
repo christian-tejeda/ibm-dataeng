#!pip install pandas
#!pip install requests


import requests
import pandas as pd


# Write your code here
url = "http://api.exchangeratesapi.io/v1/latest?base=EUR&access_key=1e111c64e58b82ccfda7e8961a33502e"  #Make sure to change ******* to your API key.
request = requests.get(url)
print(request.json())


# Turn the data into a dataframe
dataframe = pd.read_json(request.content)
dataframe


# Drop unnescessary columns
dataframe.drop(columns = ['success', 'base', 'date', 'timestamp'], inplace = True)
dataframe.rename(columns = {'rates': 'Rates'}, inplace = True)
dataframe


# Save the Dataframe
dataframe.to_csv('exchange_rates_1.csv')
