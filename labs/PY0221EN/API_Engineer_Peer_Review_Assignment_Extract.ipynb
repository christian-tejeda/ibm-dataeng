{
 "cells": [
  {
   "cell_type": "markdown",
   "metadata": {},
   "source": [
    "<center>\n",
    "    <img src=\"https://gitlab.com/ibm/skills-network/courses/placeholder101/-/raw/master/labs/module%201/images/IDSNlogo.png\" width=\"300\" alt=\"cognitiveclass.ai logo\"  />\n",
    "</center>\n"
   ]
  },
  {
   "cell_type": "markdown",
   "metadata": {},
   "source": [
    "# Peer Review Assignment - Data Engineer - Extract API Data\n"
   ]
  },
  {
   "cell_type": "markdown",
   "metadata": {},
   "source": [
    "Estimated time needed: **20** minutes\n"
   ]
  },
  {
   "cell_type": "markdown",
   "metadata": {},
   "source": [
    "## Objectives\n",
    "\n",
    "In this part you will:\n",
    "\n",
    "*   Collect exchange rate data using an API\n",
    "*   Store the data as a CSV\n"
   ]
  },
  {
   "cell_type": "markdown",
   "metadata": {},
   "source": [
    "For this lab, we are going to be using Python and several Python libraries. Some of these libraries might be installed in your lab environment or in SN Labs. Others may need to be installed by you. The cells below will install these libraries when executed.\n"
   ]
  },
  {
   "cell_type": "code",
   "execution_count": null,
   "metadata": {},
   "outputs": [],
   "source": [
    "#!pip install pandas\n",
    "#!pip install requests"
   ]
  },
  {
   "cell_type": "markdown",
   "metadata": {},
   "source": [
    "## Imports\n",
    "\n",
    "Import any additional libraries you may need here.\n"
   ]
  },
  {
   "cell_type": "code",
   "execution_count": 1,
   "metadata": {},
   "outputs": [],
   "source": [
    "import requests\n",
    "import pandas as pd"
   ]
  },
  {
   "cell_type": "markdown",
   "metadata": {},
   "source": [
    "## Extract Data Using an API\n"
   ]
  },
  {
   "cell_type": "markdown",
   "metadata": {},
   "source": [
    "Using ExchangeRate-API we will extract currency exchange rate data. Use the below steps to get the access key and to get the data.\n",
    "\n",
    "1.  Open the url : [https://exchangeratesapi.io/](https://exchangeratesapi.io/?utm_medium=Exinfluencer&utm_source=Exinfluencer&utm_content=000026UJ&utm_term=10006555&utm_id=NA-SkillsNetwork-Channel-SkillsNetworkCoursesIBMDeveloperSkillsNetworkPY0221ENSkillsNetwork23455645-2021-01-01) and create a free account.\n",
    "2.  Once the account is created. You will get the Get the Free API key option on the top as shown below:\n",
    "\n",
    "<img src=\"https://cf-courses-data.s3.us.cloud-object-storage.appdomain.cloud/IBMDeveloperSkillsNetwork-PY0221EN-SkillsNetwork/labs/module%206/Final%20Assignment/Images/getapi.png\"/>\n",
    "\n",
    "3.  Copy the API key and use in the url in Question 1.\n"
   ]
  },
  {
   "cell_type": "markdown",
   "metadata": {},
   "source": [
    "### Call the API\n",
    "\n",
    "<b> Question 1</b> Using the `requests` library call the endpoint given above and save the text, remember the first few characters of the output:\n"
   ]
  },
  {
   "cell_type": "code",
   "execution_count": 17,
   "metadata": {},
   "outputs": [
    {
     "name": "stdout",
     "output_type": "stream",
     "text": [
      "{'success': True, 'timestamp': 1631545744, 'base': 'EUR', 'date': '2021-09-13', 'rates': {'AED': 4.336898, 'AFN': 101.320612, 'ALL': 121.9251, 'AMD': 580.755891, 'ANG': 2.119177, 'AOA': 738.258376, 'ARS': 115.959172, 'AUD': 1.601799, 'AWG': 2.125235, 'AZN': 2.009031, 'BAM': 1.960898, 'BBD': 2.383761, 'BDT': 100.559383, 'BGN': 1.960317, 'BHD': 0.445014, 'BIF': 2346.614087, 'BMD': 1.180686, 'BND': 1.585972, 'BOB': 8.152168, 'BRL': 6.151254, 'BSD': 1.180651, 'BTC': 2.6777525e-05, 'BTN': 86.928556, 'BWP': 12.945566, 'BYN': 2.957744, 'BYR': 23141.452126, 'BZD': 2.37975, 'CAD': 1.49378, 'CDF': 2364.915216, 'CHF': 1.087713, 'CLF': 0.033482, 'CLP': 923.93382, 'CNY': 7.615893, 'COP': 4523.858719, 'CRC': 737.792981, 'CUC': 1.180686, 'CUP': 31.288188, 'CVE': 110.571257, 'CZK': 25.347019, 'DJF': 210.183192, 'DKK': 7.436324, 'DOP': 67.052599, 'DZD': 160.763418, 'EGP': 18.537716, 'ERN': 17.716144, 'ETB': 53.437967, 'EUR': 1, 'FJD': 2.485277, 'FKP': 0.853023, 'GBP': 0.852745, 'GEL': 3.67152, 'GGP': 0.853023, 'GHS': 7.137247, 'GIP': 0.853022, 'GMD': 61.395938, 'GNF': 11541.209036, 'GTQ': 9.139821, 'GYD': 246.777766, 'HKD': 9.185427, 'HNL': 28.188877, 'HRK': 7.477051, 'HTG': 115.786235, 'HUF': 349.579987, 'IDR': 16814.803445, 'ILS': 3.791191, 'IMP': 0.853022, 'INR': 86.885467, 'IQD': 1723.211703, 'IRR': 49813.156215, 'ISK': 151.292972, 'JEP': 0.853022, 'JMD': 176.869096, 'JOD': 0.837129, 'JPY': 129.819408, 'KES': 129.758327, 'KGS': 100.121562, 'KHR': 4820.742816, 'KMF': 492.698262, 'KPW': 1062.617717, 'KRW': 1385.294481, 'KWD': 0.355021, 'KYD': 0.983843, 'KZT': 503.51421, 'LAK': 11328.685552, 'LBP': 1802.908213, 'LKR': 235.533907, 'LRD': 202.135897, 'LSL': 143.068828, 'LTL': 3.486259, 'LVL': 0.714186, 'LYD': 5.33647, 'MAD': 10.586623, 'MDL': 20.772985, 'MGA': 4636.893459, 'MKD': 61.72276, 'MMK': 2110.396175, 'MNT': 3352.24925, 'MOP': 9.459848, 'MRO': 421.504818, 'MUR': 49.895307, 'MVR': 18.24168, 'MWK': 959.267103, 'MXN': 23.440249, 'MYR': 4.926998, 'MZN': 75.298298, 'NAD': 17.161251, 'NGN': 485.854523, 'NIO': 41.444205, 'NOK': 10.195557, 'NPR': 139.084268, 'NZD': 1.658734, 'OMR': 0.454593, 'PAB': 1.180661, 'PEN': 4.845523, 'PGK': 4.145413, 'PHP': 58.898512, 'PKR': 196.110402, 'PLN': 4.548996, 'PYG': 8152.237463, 'QAR': 4.298927, 'RON': 4.947788, 'RSD': 117.880654, 'RUB': 85.865061, 'RWF': 1186.589765, 'SAR': 4.428543, 'SBD': 9.514047, 'SCR': 15.188544, 'SDG': 523.644374, 'SEK': 10.166642, 'SGD': 1.584286, 'SHP': 1.62628, 'SLL': 12190.586642, 'SOS': 690.701455, 'SRD': 25.228311, 'STD': 24437.823296, 'SVC': 10.330698, 'SYP': 1484.64012, 'SZL': 17.161262, 'THB': 38.771966, 'TJS': 13.381931, 'TMT': 4.132402, 'TND': 3.295, 'TOP': 2.654242, 'TRY': 9.960695, 'TTD': 8.026143, 'TWD': 32.684349, 'TZS': 2737.879338, 'UAH': 31.500409, 'UGX': 4161.655266, 'USD': 1.180686, 'UYU': 50.412712, 'UZS': 12574.309655, 'VEF': 252466421089.50528, 'VND': 26873.011281, 'VUV': 131.80206, 'WST': 3.022934, 'XAF': 657.65663, 'XAG': 0.049601, 'XAU': 0.000658, 'XCD': 3.190864, 'XDR': 0.82814, 'XOF': 657.642089, 'XPF': 120.288047, 'YER': 296.057374, 'ZAR': 16.68677, 'ZMK': 10627.596683, 'ZMW': 19.214658, 'ZWL': 380.180517}}\n"
     ]
    }
   ],
   "source": [
    "# Write your code here\n",
    "url = \"http://api.exchangeratesapi.io/v1/latest?base=EUR&access_key=1e111c64e58b82ccfda7e8961a33502e\"  #Make sure to change ******* to your API key.\n",
    "request = requests.get(url)\n",
    "print(request.json())"
   ]
  },
  {
   "cell_type": "markdown",
   "metadata": {},
   "source": [
    "### Save as DataFrame\n",
    "\n",
    "<b> Question 2</b>  Using the data gathered turn it into a `pandas` dataframe. The dataframe should have the Currency as the index and `Rate` as their columns. Make sure to drop unnecessary columns.\n"
   ]
  },
  {
   "cell_type": "code",
   "execution_count": 71,
   "metadata": {},
   "outputs": [
    {
     "data": {
      "text/html": [
       "<div>\n",
       "<style scoped>\n",
       "    .dataframe tbody tr th:only-of-type {\n",
       "        vertical-align: middle;\n",
       "    }\n",
       "\n",
       "    .dataframe tbody tr th {\n",
       "        vertical-align: top;\n",
       "    }\n",
       "\n",
       "    .dataframe thead th {\n",
       "        text-align: right;\n",
       "    }\n",
       "</style>\n",
       "<table border=\"1\" class=\"dataframe\">\n",
       "  <thead>\n",
       "    <tr style=\"text-align: right;\">\n",
       "      <th></th>\n",
       "      <th>success</th>\n",
       "      <th>timestamp</th>\n",
       "      <th>base</th>\n",
       "      <th>date</th>\n",
       "      <th>rates</th>\n",
       "    </tr>\n",
       "  </thead>\n",
       "  <tbody>\n",
       "    <tr>\n",
       "      <th>AED</th>\n",
       "      <td>True</td>\n",
       "      <td>2021-09-13 15:09:04</td>\n",
       "      <td>EUR</td>\n",
       "      <td>2021-09-13</td>\n",
       "      <td>4.336898</td>\n",
       "    </tr>\n",
       "    <tr>\n",
       "      <th>AFN</th>\n",
       "      <td>True</td>\n",
       "      <td>2021-09-13 15:09:04</td>\n",
       "      <td>EUR</td>\n",
       "      <td>2021-09-13</td>\n",
       "      <td>101.320612</td>\n",
       "    </tr>\n",
       "    <tr>\n",
       "      <th>ALL</th>\n",
       "      <td>True</td>\n",
       "      <td>2021-09-13 15:09:04</td>\n",
       "      <td>EUR</td>\n",
       "      <td>2021-09-13</td>\n",
       "      <td>121.925100</td>\n",
       "    </tr>\n",
       "    <tr>\n",
       "      <th>AMD</th>\n",
       "      <td>True</td>\n",
       "      <td>2021-09-13 15:09:04</td>\n",
       "      <td>EUR</td>\n",
       "      <td>2021-09-13</td>\n",
       "      <td>580.755891</td>\n",
       "    </tr>\n",
       "    <tr>\n",
       "      <th>ANG</th>\n",
       "      <td>True</td>\n",
       "      <td>2021-09-13 15:09:04</td>\n",
       "      <td>EUR</td>\n",
       "      <td>2021-09-13</td>\n",
       "      <td>2.119177</td>\n",
       "    </tr>\n",
       "    <tr>\n",
       "      <th>...</th>\n",
       "      <td>...</td>\n",
       "      <td>...</td>\n",
       "      <td>...</td>\n",
       "      <td>...</td>\n",
       "      <td>...</td>\n",
       "    </tr>\n",
       "    <tr>\n",
       "      <th>YER</th>\n",
       "      <td>True</td>\n",
       "      <td>2021-09-13 15:09:04</td>\n",
       "      <td>EUR</td>\n",
       "      <td>2021-09-13</td>\n",
       "      <td>296.057374</td>\n",
       "    </tr>\n",
       "    <tr>\n",
       "      <th>ZAR</th>\n",
       "      <td>True</td>\n",
       "      <td>2021-09-13 15:09:04</td>\n",
       "      <td>EUR</td>\n",
       "      <td>2021-09-13</td>\n",
       "      <td>16.686770</td>\n",
       "    </tr>\n",
       "    <tr>\n",
       "      <th>ZMK</th>\n",
       "      <td>True</td>\n",
       "      <td>2021-09-13 15:09:04</td>\n",
       "      <td>EUR</td>\n",
       "      <td>2021-09-13</td>\n",
       "      <td>10627.596683</td>\n",
       "    </tr>\n",
       "    <tr>\n",
       "      <th>ZMW</th>\n",
       "      <td>True</td>\n",
       "      <td>2021-09-13 15:09:04</td>\n",
       "      <td>EUR</td>\n",
       "      <td>2021-09-13</td>\n",
       "      <td>19.214658</td>\n",
       "    </tr>\n",
       "    <tr>\n",
       "      <th>ZWL</th>\n",
       "      <td>True</td>\n",
       "      <td>2021-09-13 15:09:04</td>\n",
       "      <td>EUR</td>\n",
       "      <td>2021-09-13</td>\n",
       "      <td>380.180517</td>\n",
       "    </tr>\n",
       "  </tbody>\n",
       "</table>\n",
       "<p>168 rows × 5 columns</p>\n",
       "</div>"
      ],
      "text/plain": [
       "     success           timestamp base       date         rates\n",
       "AED     True 2021-09-13 15:09:04  EUR 2021-09-13      4.336898\n",
       "AFN     True 2021-09-13 15:09:04  EUR 2021-09-13    101.320612\n",
       "ALL     True 2021-09-13 15:09:04  EUR 2021-09-13    121.925100\n",
       "AMD     True 2021-09-13 15:09:04  EUR 2021-09-13    580.755891\n",
       "ANG     True 2021-09-13 15:09:04  EUR 2021-09-13      2.119177\n",
       "..       ...                 ...  ...        ...           ...\n",
       "YER     True 2021-09-13 15:09:04  EUR 2021-09-13    296.057374\n",
       "ZAR     True 2021-09-13 15:09:04  EUR 2021-09-13     16.686770\n",
       "ZMK     True 2021-09-13 15:09:04  EUR 2021-09-13  10627.596683\n",
       "ZMW     True 2021-09-13 15:09:04  EUR 2021-09-13     19.214658\n",
       "ZWL     True 2021-09-13 15:09:04  EUR 2021-09-13    380.180517\n",
       "\n",
       "[168 rows x 5 columns]"
      ]
     },
     "execution_count": 71,
     "metadata": {},
     "output_type": "execute_result"
    }
   ],
   "source": [
    "# Turn the data into a dataframe\n",
    "dataframe = pd.read_json(request.content)\n",
    "dataframe"
   ]
  },
  {
   "cell_type": "code",
   "execution_count": 72,
   "metadata": {},
   "outputs": [
    {
     "data": {
      "text/html": [
       "<div>\n",
       "<style scoped>\n",
       "    .dataframe tbody tr th:only-of-type {\n",
       "        vertical-align: middle;\n",
       "    }\n",
       "\n",
       "    .dataframe tbody tr th {\n",
       "        vertical-align: top;\n",
       "    }\n",
       "\n",
       "    .dataframe thead th {\n",
       "        text-align: right;\n",
       "    }\n",
       "</style>\n",
       "<table border=\"1\" class=\"dataframe\">\n",
       "  <thead>\n",
       "    <tr style=\"text-align: right;\">\n",
       "      <th></th>\n",
       "      <th>Rates</th>\n",
       "    </tr>\n",
       "  </thead>\n",
       "  <tbody>\n",
       "    <tr>\n",
       "      <th>AED</th>\n",
       "      <td>4.336898</td>\n",
       "    </tr>\n",
       "    <tr>\n",
       "      <th>AFN</th>\n",
       "      <td>101.320612</td>\n",
       "    </tr>\n",
       "    <tr>\n",
       "      <th>ALL</th>\n",
       "      <td>121.925100</td>\n",
       "    </tr>\n",
       "    <tr>\n",
       "      <th>AMD</th>\n",
       "      <td>580.755891</td>\n",
       "    </tr>\n",
       "    <tr>\n",
       "      <th>ANG</th>\n",
       "      <td>2.119177</td>\n",
       "    </tr>\n",
       "    <tr>\n",
       "      <th>...</th>\n",
       "      <td>...</td>\n",
       "    </tr>\n",
       "    <tr>\n",
       "      <th>YER</th>\n",
       "      <td>296.057374</td>\n",
       "    </tr>\n",
       "    <tr>\n",
       "      <th>ZAR</th>\n",
       "      <td>16.686770</td>\n",
       "    </tr>\n",
       "    <tr>\n",
       "      <th>ZMK</th>\n",
       "      <td>10627.596683</td>\n",
       "    </tr>\n",
       "    <tr>\n",
       "      <th>ZMW</th>\n",
       "      <td>19.214658</td>\n",
       "    </tr>\n",
       "    <tr>\n",
       "      <th>ZWL</th>\n",
       "      <td>380.180517</td>\n",
       "    </tr>\n",
       "  </tbody>\n",
       "</table>\n",
       "<p>168 rows × 1 columns</p>\n",
       "</div>"
      ],
      "text/plain": [
       "            Rates\n",
       "AED      4.336898\n",
       "AFN    101.320612\n",
       "ALL    121.925100\n",
       "AMD    580.755891\n",
       "ANG      2.119177\n",
       "..            ...\n",
       "YER    296.057374\n",
       "ZAR     16.686770\n",
       "ZMK  10627.596683\n",
       "ZMW     19.214658\n",
       "ZWL    380.180517\n",
       "\n",
       "[168 rows x 1 columns]"
      ]
     },
     "execution_count": 72,
     "metadata": {},
     "output_type": "execute_result"
    }
   ],
   "source": [
    "# Drop unnescessary columns\n",
    "dataframe.drop(columns = ['success', 'base', 'date', 'timestamp'], inplace = True)\n",
    "dataframe.rename(columns = {'rates': 'Rates'}, inplace = True)\n",
    "dataframe"
   ]
  },
  {
   "cell_type": "markdown",
   "metadata": {},
   "source": [
    "### Load the Data\n",
    "\n",
    "Using the dataframe save it as a CSV names `exchange_rates_1.csv`.\n"
   ]
  },
  {
   "cell_type": "code",
   "execution_count": 73,
   "metadata": {},
   "outputs": [],
   "source": [
    "# Save the Dataframe\n",
    "dataframe.to_csv('exchange_rates_1.csv')"
   ]
  },
  {
   "cell_type": "markdown",
   "metadata": {},
   "source": [
    "Your CSV should be in this format with more currencies\n",
    "\n",
    "|     | Rates      |\n",
    "| --- | ---------- |\n",
    "| AED | 4.398618   |\n",
    "| AFN | 92.917693  |\n",
    "| ALL | 123.099093 |\n",
    "| AMD | 621.935674 |\n",
    "| ANG | 2.149648   |\n"
   ]
  },
  {
   "cell_type": "markdown",
   "metadata": {},
   "source": [
    "## Authors\n"
   ]
  },
  {
   "cell_type": "markdown",
   "metadata": {},
   "source": [
    "Ramesh Sannareddy, Joseph Santarcangelo and Azim Hirjani\n"
   ]
  },
  {
   "cell_type": "markdown",
   "metadata": {},
   "source": [
    "### Other Contributors\n"
   ]
  },
  {
   "cell_type": "markdown",
   "metadata": {},
   "source": [
    "Rav Ahuja\n"
   ]
  },
  {
   "cell_type": "markdown",
   "metadata": {},
   "source": [
    "## Change Log\n"
   ]
  },
  {
   "cell_type": "markdown",
   "metadata": {},
   "source": [
    "| Date (YYYY-MM-DD) | Version | Changed By        | Change Description                 |\n",
    "| ----------------- | ------- | ----------------- | ---------------------------------- |\n",
    "| 2021-04-15        | 0.2     | Malika            | Updated the lab from USD to EUR    |\n",
    "| 2020-11-25        | 0.1     | Ramesh Sannareddy | Created initial version of the lab |\n"
   ]
  },
  {
   "cell_type": "markdown",
   "metadata": {},
   "source": [
    "Copyright © 2020 IBM Corporation. This notebook and its source code are released under the terms of the [MIT License](https://cognitiveclass.ai/mit-license?utm_medium=Exinfluencer&utm_source=Exinfluencer&utm_content=000026UJ&utm_term=10006555&utm_id=NA-SkillsNetwork-Channel-SkillsNetworkCoursesIBMDeveloperSkillsNetworkPY0221ENSkillsNetwork23455645-2021-01-01&cm_mmc=Email_Newsletter-\\_-Developer_Ed%2BTech-\\_-WW_WW-\\_-SkillsNetwork-Courses-IBM-DA0321EN-SkillsNetwork-21426264&cm_mmca1=000026UJ&cm_mmca2=10006555&cm_mmca3=M12345678&cvosrc=email.Newsletter.M12345678&cvo_campaign=000026UJ).\n"
   ]
  }
 ],
 "metadata": {
  "kernelspec": {
   "display_name": "Python",
   "language": "python",
   "name": "conda-env-python-py"
  },
  "language_info": {
   "codemirror_mode": {
    "name": "ipython",
    "version": 3
   },
   "file_extension": ".py",
   "mimetype": "text/x-python",
   "name": "python",
   "nbconvert_exporter": "python",
   "pygments_lexer": "ipython3",
   "version": "3.6.13"
  }
 },
 "nbformat": 4,
 "nbformat_minor": 4
}
